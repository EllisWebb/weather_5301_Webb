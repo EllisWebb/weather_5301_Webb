# Import pandas, numpy, and matplotlib
import pandas as pd
import numpy as np
import matplotlib.pyplot as plt

# seaborn is a data visualization library built on matplotlib
import seaborn as sns

# set the plotting style
sns.set_style("whitegrid")


df_seattle = pd.read_csv('https://raw.githubusercontent.com/brian-fischer/DATA-5100/refs/heads/main/weather/seattle_rain.csv')


df_van = pd.read_csv('/Users/carterwebb/Desktop/5301_Foundation_Data/weather_5301_Webb/weather/data/van_rain.csv')

df_van.head()


df_seattle.info()


df_van.info()


df_seattle['DATE'] = pd.to_datetime(df_seattle['DATE'])


df_van['DATE'] = pd.to_datetime(df_seattle['DATE'])


df_seattle.head()


df_van.head()



df_van_loc = df_van.loc[:, ['STATION', 'DATE', 'PRCP']]
df_van_loc.head()


df = df_van[['DATE', 'PRCP']].merge(df_seattle[['DATE', 'PRCP']], on='DATE', how='outer')


df.head()


df.tail()
