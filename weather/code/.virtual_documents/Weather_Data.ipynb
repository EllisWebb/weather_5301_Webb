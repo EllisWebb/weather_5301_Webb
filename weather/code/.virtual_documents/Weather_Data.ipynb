


# Import pandas, numpy, and matplotlib
import pandas as pd
import numpy as np
import matplotlib.pyplot as plt

# seaborn is a data visualization library built on matplotlib
import seaborn as sns

# set the plotting style
sns.set_style("whitegrid")

df_seattle = pd.read_csv('/Users/carterwebb/Desktop/5301_Foundation_Data/weather_5301_Webb/weather/data/seattle_rain.csv')

df_van = pd.read_csv('/Users/carterwebb/Desktop/5301_Foundation_Data/weather_5301_Webb/weather/data/van_rain.csv')





df_seattle.info()





df_van.info()





df_seattle['DATE'] = pd.to_datetime(df_seattle['DATE'])


df_van['DATE'] = pd.to_datetime(df_seattle['DATE'])





print(df_seattle)
print(df_van)






plt.figure(figsize=(20, 5))

sns.lineplot(data=df_seattle, x='DATE', y='PRCP')

plt.xlabel('Date', fontsize=18)
plt.ylabel('Precipitation (inches)', fontsize=18)
plt.title('Seattle Daily Precipitation', fontsize=20)

plt.tick_params(labelsize=15)

plt.show()





plt.figure(figsize=(20, 5))

sns.lineplot(data=df_van, x='DATE', y='PRCP')

plt.xlabel('Date', fontsize=18)
plt.ylabel('Precipitation (inches)', fontsize=18)
plt.title('Vancouver Daily Precipitation', fontsize=20)


plt.tick_params(labelsize=15)

plt.show()





df_van_loc = df_van.loc[:, ['STATION', 'DATE', 'PRCP']]
df_van_loc.head()


df_sea_loc = df_seattle.loc[:, ['STATION', 'DATE', 'PRCP']]
df_sea_loc.head()





df = df_van[['DATE', 'PRCP']].merge(df_seattle[['DATE', 'PRCP']], on='DATE', how='outer')


df





df.head(140)





df = df.iloc[138:]





df = pd.melt(df, id_vars='DATE', var_name='city', value_name='precipitation')


df.head()


df.shape





df.loc[df['city'] == 'PRCP_x', 'city'] = 'VAN'


df.loc[df['city'] == 'PRCP_y', 'city'] = 'SEA'


df





df = df.rename(columns={'DATE': 'date'})

df.head()


df





df.isna().sum()





df.loc[df['city'] == 'SEA', 'precipitation'].isna().sum()


df.loc[df['city'] == 'VAN', 'precipitation'].isna().sum()





df['day_of_year'] = pd.DatetimeIndex(df['date']).day_of_year


df


mean_day_precipitation_sea = df.loc[
    df['city'] == 'SEA',
    ['precipitation', 'day_of_year']
].groupby(
    'day_of_year'
).mean()


plt.figure(figsize=(20, 5))

sns.lineplot(data=mean_day_precipitation_sea, x='day_of_year', y='precipitation')

plt.xlabel('Day of the year', fontsize=18)
plt.ylabel('Mean precipitation (inches)', fontsize=18)

plt.tick_params(labelsize=15)

plt.show()


mean_day_precipitation_van = df.loc[
    df['city'] == 'VAN',
    ['precipitation', 'day_of_year']
].groupby(
    'day_of_year'
).mean()


plt.figure(figsize=(20, 5))

sns.lineplot(data=mean_day_precipitation_van, x='day_of_year', y='precipitation')

plt.xlabel('Day of the year', fontsize=18)
plt.ylabel('Mean precipitation (inches)', fontsize=18)

plt.tick_params(labelsize=15)

plt.show()


indices_SEA = np.where(df['precipitation'].isna() & (df['city'] == 'SEA'))[0]

indices_VAN = np.where(df['precipitation'].isna() & (df['city'] == 'VAN'))[0]


indices_SEA


indices_SEA.shape


indices_VAN.shape


for index in indices:
    df.loc[index, 'precipitation'] = mean_day_precipitation_sea.loc[df.loc[index,'day_of_year']].values[0]





df.isna().sum()


df.to_csv('clean_seattle_vancouver_weather.csv', encoding='utf-8-sig', index=False)



