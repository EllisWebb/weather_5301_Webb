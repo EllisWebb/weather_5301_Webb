


# Import pandas, numpy, and matplotlib
import pandas as pd
import numpy as np
import matplotlib.pyplot as plt
import matplotlib.patches as patches

# seaborn is a data visualization library built on matplotlib
import seaborn as sns

# set the plotting style
sns.set_style("whitegrid")

df= pd.read_csv('/Users/carterwebb/Desktop/5301_Foundation_Data/weather_5301_Webb/weather/data/clean_seattle_vancouver_weather.csv')






df





plt.figure(figsize=(20, 5))

sns.lineplot(data=df, x='date', y='precipitation', hue='city')

plt.xlabel('Date', fontsize=18)
plt.ylabel('Precipitation (inches)', fontsize=18)
plt.title('Daily Precipitation', fontsize=20)

plt.tick_params(labelsize=15)

plt.show()





df[['city', 'precipitation']].groupby('city').describe()





sns.barplot(data=df, x='city', y='precipitation')

plt.xlabel('City', fontsize=18)
plt.ylabel('Precipitation (inches)', fontsize=18)
plt.title('Mean Precipitation', fontsize=20)

plt.tick_params(labelsize=15)

plt.show()





sns.barplot?





df['month'] = pd.DatetimeIndex(df['date']).month


df





df['month'].unique()





plt.figure(figsize=(20,4))

sns.boxplot(data=df, x='month', y='precipitation', hue = 'city')

plt.xlabel('Month', fontsize=18)
plt.ylabel('Precipitation (inches)', fontsize=18)
plt.title('Precipitation By Month', fontsize=20)

plt.tick_params(labelsize=15)

import calendar
month_names = list(calendar.month_name[1:]) 
plt.xticks(ticks=range(12), labels=month_names)

plt.show()





plt.figure(figsize=(15,8))

sns.boxplot(data=df, x='precipitation', y='month', hue = 'city', orient = 'h')

plt.xlabel('Precipitation (inches)', fontsize=18)
plt.ylabel('Month', fontsize=18)
plt.title('Precipitation By Month', fontsize=20)

plt.tick_params(labelsize=15)

plt.yticks(ticks=range(12), labels=month_names)

plt.show()





plt.figure(figsize=(20,4))

sns.boxplot(data=df, x='month', y='precipitation', hue = 'city')

plt.xlabel('Month', fontsize=18)
plt.ylabel('Precipitation (inches)', fontsize=18)
plt.title('Precipitation By Month', fontsize=20)

plt.tick_params(labelsize=15)

plt.xticks(ticks=range(12), labels=month_names)

plt.ylim(0, 1)

plt.show()





plt.figure(figsize=(20,4))

sns.barplot(data=df, x='month', y='precipitation', hue = 'city')

plt.xlabel('Month', fontsize=18)
plt.ylabel('Precipitation (inches)', fontsize=18)
plt.title('Mean Precipitation By Month', fontsize=20)

plt.tick_params(labelsize=15)

plt.xticks(ticks=range(12), labels=month_names)

plt.show()





df[['month', 'precipitation', 'city']].groupby(['city', 'month']).mean()





df['any_precipitation'] = df['precipitation'] >0


df





plt.figure(figsize=(25,7))

sns.barplot(data=df, x='month', y='any_precipitation', hue = 'city',
           palette=["#003865", "#69BE28"] )

plt.xlabel(None)
plt.ylabel('Proportion of Days with Precipitation', fontsize=16)
plt.title('Proportion of Rainy Days', fontsize=20, fontweight="bold")

plt.tick_params(labelsize=16)

plt.xticks(ticks=range(12), labels=month_names)

plt.figtext(0.5, -0.05,
            "Error Bars Represent 95% CI for the Mean",
            ha="center", fontsize=14)

plt.legend(
    title=None,
    fontsize=14,        
    markerscale=1.3     
)

plt.show()





plt.figure(figsize=(20, 5))

sns.histplot(data=df.loc[df['month'] == 1], x='precipitation', hue='city')

plt.xlabel('Precipitation (inches)', fontsize=18)
plt.ylabel('# of Days', fontsize=18)
plt.title('Precipitation in January', fontsize=20)

plt.tick_params(labelsize=15)

plt.show()





from scipy import stats


significance_level = 0.05
significantly_different = np.zeros(12)

for month in range(1, 13):
    sea_data = df.loc[(df['city'] == 'SEA') & (df['month'] == month), 'precipitation'] 
    van_data = df.loc[(df['city'] == 'VAN') & (df['month'] == month), 'precipitation'] 

    t_statistic, p_value = stats.ttest_ind(sea_data, van_data, equal_var=False)

    if p_value < significance_level:
        significantly_different[month-1] = 1

    print(f"Month {month}:")
    print(f" t_statistic = {t_statistic:.2f}:")
    print(f" p_value t test = {p_value:.3f}:")
    print("-" * 20)





plt.figure(figsize=(25,7))

sns.barplot(data=df, x='month', y='precipitation', hue = 'city',
           palette=["#003865", "#69BE28"] )

plt.xlabel(None)
plt.ylabel('Mean Precipitation (Inches)', fontsize=16)
plt.title('Precipitation By Month', fontsize=20, fontweight="bold")

plt.tick_params(labelsize=16)

plt.xticks(ticks=range(12), labels=month_names)

for month in range(12):
   if significantly_different[month] == 1:

        plt.text(month, 0.41, 'Significant', ha='center', fontsize=12)

plt.figtext(0.5, -0.05,
            "Error Bars Represent 95% CI for the Mean",
            ha="center", fontsize=14)

for month in range(12):
    if significantly_different[month] == 1:
        # add a dotted rectangle around that month’s bars
        rect = patches.Rectangle(
            (month - 0.5, 0),  
            0.95,              
            0.40, 
            linewidth=2, edgecolor="black", facecolor="none", linestyle="--"
        )
        plt.gca().add_patch(rect)

plt.legend(
    title=None,
    fontsize=14,        
    markerscale=1.3     
)

plt.show()








sns.barplot?








from statsmodels.stats.proportion import proportions_ztest

significance_level = 0.05
significantly_different_proportion = np.zeros(12)

for month in range(1, 13):

    contingency_table = pd.crosstab(
        df.loc[df['month'] == month, 'city'], df.loc[df['month'] == month, 'any_precipitation']
    )

    days_with_precipitation = contingency_table[True]

    total_counts = contingency_table.sum(axis=1)

    zstat, p_value = proportions_ztest(
        count=days_with_precipitation, nobs=total_counts, alternative='two-sided'
    )

    if p_value < significance_level:
        significantly_different_proportion[month-1] = 1

    print(f"Month {month}:")
    print(f"  z-statistic = {zstat:.2f}")
    print(f"  p-value = {p_value:.3f}")
    print("-" * 20)


contingency_table = pd.crosstab(
        df.loc[df['month'] == 1, 'city'], df.loc[df['month'] == 1, 'any_precipitation']
    )

contingency_table






