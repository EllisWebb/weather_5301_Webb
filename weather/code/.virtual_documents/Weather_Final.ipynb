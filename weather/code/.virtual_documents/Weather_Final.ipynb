# Import pandas, numpy, and matplotlib
import pandas as pd
import numpy as np
import matplotlib.pyplot as plt

# seaborn is a data visualization library built on matplotlib
import seaborn as sns

# set the plotting style
sns.set_style("whitegrid")

df_seattle = pd.read_csv('/Users/carterwebb/Desktop/5301_Foundation_Data/weather_5301_Webb/weather/data/seattle_rain.csv')

df_van = pd.read_csv('/Users/carterwebb/Desktop/5301_Foundation_Data/weather_5301_Webb/weather/data/van_rain.csv')






df_seattle['DATE'] = pd.to_datetime(df_seattle['DATE'])

df_van['DATE'] = pd.to_datetime(df_seattle['DATE'])





print(df_seattle)
print(df_van)





plt.figure(figsize=(20, 5))

sns.lineplot(data=df_seattle, x='DATE', y='PRCP')

plt.xlabel('Date', fontsize=18)
plt.ylabel('Precipitation (inches)', fontsize=18)
plt.title('Seattle Daily Precipitation', fontsize=20)

plt.tick_params(labelsize=15)

plt.show()


plt.figure(figsize=(20, 5))

sns.lineplot(data=df_van, x='DATE', y='PRCP')

plt.xlabel('Date', fontsize=18)
plt.ylabel('Precipitation (inches)', fontsize=18)
plt.title('Vancouver Daily Precipitation', fontsize=20)


plt.tick_params(labelsize=15)

plt.show()





df_van_loc = df_van.loc[:, ['STATION', 'DATE', 'PRCP']]
df_van_loc.head()


df_sea_loc = df_seattle.loc[:, ['STATION', 'DATE', 'PRCP']]
df_sea_loc.head()





print(df_sea_loc)
print(df_van_loc)





df = df_van[['DATE', 'PRCP']].merge(df_seattle[['DATE', 'PRCP']], on='DATE', how='outer')





df





df.head(140)





df = df.iloc[138:]





df = pd.melt(df, id_vars='DATE', var_name='city', value_name='precipitation')





df.loc[df['city'] == 'PRCP_x', 'city'] = 'VAN'

df.loc[df['city'] == 'PRCP_y', 'city'] = 'SEA'





df





df = df.rename(columns={'DATE': 'date'})

df.head()





df.isna().sum()


df.loc[df['city'] == 'SEA', 'precipitation'].isna().sum()


df.loc[df['city'] == 'VAN', 'precipitation'].isna().sum()





df['day_of_year'] = pd.DatetimeIndex(df['date']).day_of_year





mean_day_precipitation_sea = df.loc[
    df['city'] == 'SEA',
    ['precipitation', 'day_of_year']
].groupby(
    'day_of_year'
).mean()


plt.figure(figsize=(20, 5))

sns.lineplot(data=mean_day_precipitation_sea, x='day_of_year', y='precipitation')

plt.xlabel('Day of the year', fontsize=18)
plt.ylabel('Mean precipitation (inches)', fontsize=18)

plt.tick_params(labelsize=15)

plt.show()


mean_day_precipitation_van = df.loc[
    df['city'] == 'VAN',
    ['precipitation', 'day_of_year']
].groupby(
    'day_of_year'
).mean()


plt.figure(figsize=(20, 5))

sns.lineplot(data=mean_day_precipitation_van, x='day_of_year', y='precipitation')

plt.xlabel('Day of the year', fontsize=18)
plt.ylabel('Mean precipitation (inches)', fontsize=18)

plt.tick_params(labelsize=15)

plt.show()





indices_SEA = np.where(df['precipitation'].isna() & (df['city'] == 'SEA'))[0]

indices_VAN = np.where(df['precipitation'].isna() & (df['city'] == 'VAN'))[0]





indices_SEA.shape


indices_VAN.shape








for index in indices_SEA:
    df.loc[index, 'precipitation'] = mean_day_precipitation_sea.loc[df.loc[index,'day_of_year']].values[0]


for index in indices_VAN:
    df.loc[index, 'precipitation'] = mean_day_precipitation_van.loc[df.loc[index,'day_of_year']].values[0]





df.isna().sum()





df.to_csv('clean_seattle_vancouver_weather.csv', encoding='utf-8-sig', index=False)


df_tidy= pd.read_csv('/Users/carterwebb/Desktop/5301_Foundation_Data/weather_5301_Webb/weather/data/clean_seattle_vancouver_weather.csv')



df_tidy





plt.figure(figsize=(20, 5))

sns.lineplot(data=df_tidy, x='date', y='precipitation', hue='city',
    palette=["#003865", "#69BE28"] 
)

plt.xlabel('Date', fontsize=18)
plt.ylabel('Precipitation (inches)', fontsize=18)
plt.title('Daily Precipitation', fontsize=20)

plt.tick_params(labelsize=15)

plt.show()





plt.figure()

sns.barplot(
    data=df_tidy, x='city', y='precipitation', hue = 'city',
    palette=["#003865", "#69BE28"] 
)

plt.xlabel('City')
plt.ylabel('Precipitation (inches)')
plt.title('Mean Precipitation 2018-2022', fontweight="bold")

plt.tick_params()

plt.figtext(
    0.5, -0.05,
    "Error Bars Represent 95% CI for the Mean",
    ha="center"
)


plt.show()





df_tidy['month'] = pd.DatetimeIndex(df['date']).month





df_tidy['any_precipitation'] = df['precipitation'] >0





df_tidy





plt.figure(figsize=(25,7))

sns.barplot(data=df_tidy, x='month', y='any_precipitation', hue = 'city',
           palette=["#003865", "#69BE28"] )

plt.xlabel(None)
plt.ylabel('Proportion of Days with Precipitation', fontsize=20)
plt.title('Proportion of Rainy Days 2018-2022', fontsize=30, fontweight="bold")

plt.tick_params(labelsize=22)

import calendar #this needs to happen before being able to name the months or else it will just call the numbers.
month_names = list(calendar.month_name[1:]) 
plt.xticks(ticks=range(12), labels=month_names)

plt.xticks(ticks=range(12), labels=month_names)

plt.figtext(0.5, -0.05,
            "Error Bars Represent 95% CI for the Mean",
            ha="center", fontsize=16)

plt.legend(
    title=None,
    fontsize=18,        
    markerscale=2.0     
)

plt.show()





from scipy import stats


significance_level = 0.05
significantly_different = np.zeros(12)

for month in range(1, 13):
    sea_data = df_tidy.loc[(df_tidy['city'] == 'SEA') & (df_tidy['month'] == month), 'precipitation'] 
    van_data = df_tidy.loc[(df_tidy['city'] == 'VAN') & (df_tidy['month'] == month), 'precipitation'] 

    t_statistic, p_value = stats.ttest_ind(sea_data, van_data, equal_var=False)

    if p_value < significance_level:
        significantly_different[month-1] = 1

    print(f"Month {month}:")
    print(f" t_statistic = {t_statistic:.2f}:")
    print(f" p_value t test = {p_value:.3f}:")
    print("-" * 20)





plt.figure(figsize=(25,7))

sns.barplot(data=df_tidy, x='month', y='precipitation', hue = 'city',
           palette=["#003865", "#69BE28"] )

plt.xlabel(None)
plt.ylabel('Mean Precipitation (Inches)', fontsize=20)
plt.title('Precipitation By Month 2018-2022', fontsize=30, fontweight="bold")

plt.tick_params(labelsize=22)

plt.xticks(ticks=range(12), labels=month_names)

for month in range(12):
   if significantly_different[month] == 1:

        plt.text(month, 0.41, 'Significant', ha='center', fontsize=15)

plt.figtext(0.5, -0.05,
            "Error Bars Represent 95% CI for the Mean",
            ha="center", fontsize=14)

for month in range(12):
    if significantly_different[month] == 1:
        # add a dotted rectangle around that month’s bars
        rect = plt.Rectangle(
            (month - 0.5, 0),  
            0.95,              
            0.40, 
            linewidth=2, edgecolor="black", facecolor="none", linestyle="--"
        )
        plt.gca().add_patch(rect)

plt.legend(
    title=None,
    fontsize=18,        
    markerscale=2.0     
)

plt.show()






